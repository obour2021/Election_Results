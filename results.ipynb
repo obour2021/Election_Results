{
 "cells": [
  {
   "cell_type": "code",
   "execution_count": 1,
   "metadata": {},
   "outputs": [],
   "source": [
    "import numpy as np\n",
    "from matplotlib import pyplot as plt"
   ]
  },
  {
   "cell_type": "code",
   "execution_count": 2,
   "metadata": {},
   "outputs": [
    {
     "name": "stdout",
     "output_type": "stream",
     "text": [
      "33\n",
      "47.142857142857146\n",
      "[0.57142857 0.54285714 0.54285714 ... 0.54285714 0.5        0.54285714]\n",
      "70\n",
      "0.214\n"
     ]
    }
   ],
   "source": [
    "survey_responses = ['Ceballos', 'Kerrigan', 'Ceballos', 'Ceballos', 'Ceballos','Kerrigan', 'Kerrigan', 'Ceballos', 'Ceballos', 'Ceballos', \n",
    "'Kerrigan', 'Kerrigan', 'Ceballos', 'Ceballos', 'Kerrigan', 'Kerrigan', 'Ceballos', 'Ceballos', 'Kerrigan', 'Kerrigan', 'Kerrigan', 'Kerrigan', 'Kerrigan', 'Kerrigan', 'Ceballos', 'Ceballos', 'Ceballos', 'Ceballos', 'Ceballos', 'Ceballos',\n",
    "'Kerrigan', 'Kerrigan', 'Ceballos', 'Ceballos', 'Ceballos', 'Kerrigan', 'Kerrigan', 'Ceballos', 'Ceballos', 'Kerrigan', 'Kerrigan', 'Ceballos', 'Ceballos', 'Kerrigan', 'Kerrigan', 'Kerrigan', 'Kerrigan', 'Kerrigan', 'Kerrigan', 'Ceballos',\n",
    "'Kerrigan', 'Kerrigan', 'Ceballos', 'Ceballos', 'Ceballos', 'Kerrigan', 'Kerrigan', 'Ceballos', 'Ceballos', 'Kerrigan', 'Kerrigan', 'Ceballos', 'Ceballos', 'Kerrigan', 'Kerrigan', 'Kerrigan', 'Kerrigan', 'Kerrigan', 'Kerrigan', 'Ceballos']\n",
    "total_ceballos = sum([1 for response in survey_responses if response == \"Ceballos\"])\n",
    "\n",
    "print(total_ceballos)\n",
    "survey_responses_length = float(len(survey_responses))\n",
    "percentage_ceballos = 100 * total_ceballos /survey_responses_length\n",
    "print(percentage_ceballos)\n",
    "\n",
    "possible_surveys = np.random.binomial(survey_responses_length, 0.54, size=10000) / survey_responses_length\n",
    "print(possible_surveys)\n",
    "\n",
    "print(len(survey_responses))\n",
    "ceballos_loss_surveys = np.mean(possible_surveys < 0.5)\n",
    "print(ceballos_loss_surveys)\n",
    "\n",
    "large_survey_length = float(7000)\n",
    "large_survey = np.random.binomial(large_survey_length , 0.54, size=10000) / large_survey_length \n",
    "ceballos_loss_new = np.mean(large_survey < 0.5)"
   ]
  },
  {
   "cell_type": "code",
   "execution_count": 4,
   "metadata": {},
   "outputs": [
    {
     "data": {
      "image/png": "[encoded data removed]",
      "text/plain": [
       "<Figure size 720x432 with 1 Axes>"
      ]
     },
     "metadata": {
      "needs_background": "light"
     },
     "output_type": "display_data"
    },
    {
     "name": "stdout",
     "output_type": "stream",
     "text": [
      "0.0\n"
     ]
    }
   ],
   "source": [
    "plt.close()\n",
    "plt.figure(figsize=(10,6))\n",
    "plt.hist(possible_surveys, range=(0, 1), bins=20)\n",
    "plt.hist(large_survey, alpha= 0.5, range=(0, 1), bins=20)\n",
    "\n",
    "plt.show()\n",
    "\n",
    "print(ceballos_loss_new)"
   ]
  },
  {
   "cell_type": "code",
   "execution_count": null,
   "metadata": {},
   "outputs": [],
   "source": []
  }
 ],
 "metadata": {
  "kernelspec": {
   "display_name": "Python 3",
   "language": "python",
   "name": "python3"
  },
  "language_info": {
   "codemirror_mode": {
    "name": "ipython",
    "version": 3
   },
   "file_extension": ".py",
   "mimetype": "text/x-python",
   "name": "python",
   "nbconvert_exporter": "python",
   "pygments_lexer": "ipython3",
   "version": "3.7.3"
  }
 },
 "nbformat": 4,
 "nbformat_minor": 2
}
